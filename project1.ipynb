{
 "cells": [
  {
   "cell_type": "code",
   "execution_count": 1,
   "metadata": {},
   "outputs": [],
   "source": [
    "import cv2\n",
    "import numpy as np"
   ]
  },
  {
   "cell_type": "code",
   "execution_count": 2,
   "metadata": {},
   "outputs": [],
   "source": [
    "# 마우스로 클릭하여 점 만드는 함수\n",
    "\n",
    "def mouse_handler(event, x, y, flasgs, data):\n",
    "    if  event == cv2.EVENT_LBUTTONDOWN: # 마우스 왼쪽 클릭\n",
    "        cv2.circle(data['im'], (x, y), 3, (0, 0, 255), -1)\n",
    "        cv2.imshow('image', data['im'])\n",
    "        if len(data['points']) < 4:\n",
    "            data['points'].append([x, y])\n",
    "\n",
    "# 네 개의 좌표를 찍는 함수\n",
    "def get_four_points(im):\n",
    "    data = {}\n",
    "    data['im'] = im.copy()\n",
    "    data['points'] = []\n",
    "\n",
    "    cv2.imshow('image', im)\n",
    "    cv2.setMouseCallback('image', mouse_handler, data)\n",
    "    cv2.waitKey()\n",
    "\n",
    "    # 유저가 마우스로 찍은 점을 float으로 바꿔줘야한다.\n",
    "    points = np.array(data['points'], dtype=float)\n",
    "\n",
    "    return points"
   ]
  },
  {
   "cell_type": "code",
   "execution_count": null,
   "metadata": {},
   "outputs": [],
   "source": []
  }
 ],
 "metadata": {
  "interpreter": {
   "hash": "42588fd11209419b7c81abe23e31a1d2101f60811b02170c268e57ebb57d5d9a"
  },
  "kernelspec": {
   "display_name": "Python 3.9.7 ('base')",
   "language": "python",
   "name": "python3"
  },
  "language_info": {
   "codemirror_mode": {
    "name": "ipython",
    "version": 3
   },
   "file_extension": ".py",
   "mimetype": "text/x-python",
   "name": "python",
   "nbconvert_exporter": "python",
   "pygments_lexer": "ipython3",
   "version": "3.9.7"
  },
  "orig_nbformat": 4
 },
 "nbformat": 4,
 "nbformat_minor": 2
}
