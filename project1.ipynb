{
 "cells": [
  {
   "cell_type": "code",
   "execution_count": 4,
   "metadata": {},
   "outputs": [],
   "source": [
    "import cv2\n",
    "import numpy as np\n",
    "import math\n",
    "from collections import Counter\n",
    "import matplotlib.pyplot as plt"
   ]
  },
  {
   "cell_type": "code",
   "execution_count": 356,
   "metadata": {},
   "outputs": [],
   "source": [
    "# 마우스로 클릭하여 점 만드는 함수\n",
    "\n",
    "def mouse_handler(event, x, y, flasgs, data):\n",
    "    if  event == cv2.EVENT_LBUTTONDOWN: # 마우스 왼쪽 클릭\n",
    "        cv2.circle(data['im'], (x, y), 3, (0, 0, 255), -1)\n",
    "        cv2.imshow('image', data['im'])\n",
    "        if len(data['points']) < 4:\n",
    "            data['points'].append((y, x))\n",
    "\n",
    "# 네 개의 좌표를 찍는 함수\n",
    "def get_four_points(im):\n",
    "    data = {}\n",
    "    data['im'] = im.copy()\n",
    "    data['points'] = []\n",
    "\n",
    "    cv2.imshow('image', im)\n",
    "    cv2.setMouseCallback('image', mouse_handler, data)\n",
    "    cv2.waitKey()\n",
    "    cv2.destroyAllWindows()\n",
    "    points = data['points']\n",
    "    # 마우스로 찍은 점을 float으로 바꿔줘야한다.\n",
    "    #points = np.array(data['points'], dtype=float)\n",
    "\n",
    "    return points"
   ]
  },
  {
   "cell_type": "code",
   "execution_count": 360,
   "metadata": {},
   "outputs": [],
   "source": [
    "# 히스토그램에 들어갈 요소 구하기 \n",
    "def get_hist_el(img, points_src, point_num):\n",
    "        \n",
    "    final_img = img_change(img) # 스무딩 등의 이미지 변환\n",
    "\n",
    "    imgContoursX = []\n",
    "    imgContoursY = []\n",
    "\n",
    "    # 해당 픽셀 주변 9*9 window를 설정하여 그래디언트 계산\n",
    "    for i in range(points_src[point_num][0] - 4, points_src[point_num][0] + 4 + 1):\n",
    "        for j in range(points_src[point_num][1] -4, points_src[point_num][1] + 4 + 1):\n",
    "            imgContoursX.append(np.sum(np.multiply(convX, final_img[i-1 : i+2, j-1 : j+2])))\n",
    "            imgContoursY.append(np.sum(np.multiply(convY, final_img[i-1 : i+2, j-1 : j+2])))\n",
    "\n",
    "    imgContoursX = np.array(imgContoursX).reshape(9,9).T\n",
    "    imgContoursY = np.array(imgContoursX).reshape(9,9).T\n",
    "\n",
    "    # 백터의 크기\n",
    "    magnitude_h=[]\n",
    "    magnitude_w=[]\n",
    "    mag = np.sqrt(imgContoursX ** 2 + imgContoursY ** 2)\n",
    "    \n",
    "    # 30 이하의 mag는 0으로 만들기\n",
    "    for a in range(mag.shape[0]):\n",
    "        for b in range(mag.shape[1]):\n",
    "            if mag[a][b] < 30:\n",
    "                mag[a][b] = 0\n",
    "            else:\n",
    "                magnitude_h.append(a)\n",
    "                magnitude_w.append(b)\n",
    "    \n",
    "    # 벡터의 각도\n",
    "    angles = (np.arctan2(imgContoursX, imgContoursY) + np.pi) * 180/np.pi\n",
    "\n",
    "    # 각도의 리스트\n",
    "    angle_list = []\n",
    "    for i in range(len(magnitude_h)):\n",
    "        angle = angles[magnitude_h[i]][magnitude_w[i]]\n",
    "        angle_list.append(angle)\n",
    "\n",
    "    return angle_list           "
   ]
  },
  {
   "cell_type": "code",
   "execution_count": 350,
   "metadata": {},
   "outputs": [],
   "source": [
    "def img_change(img):\n",
    "    # 이미지 변형\n",
    "    res_gray = cv2.cvtColor(img, cv2.COLOR_BGR2GRAY)\n",
    "    res_gray_equ = cv2.equalizeHist(res_gray)\n",
    "    res_gray_norm = cv2.normalize(res_gray, None, 0, 255, cv2.NORM_MINMAX)\n",
    "    res_gray_equ_blur = cv2.GaussianBlur(res_gray_equ, (0, 0), 1, dst=None, sigmaY=None, borderType=None) \n",
    "    res_gray_norm_blur = cv2.GaussianBlur(res_gray_norm, (0, 0), 1, dst=None, sigmaY=None, borderType=None) \n",
    "    final_img = res_gray_norm_blur\n",
    "    return final_img"
   ]
  },
  {
   "cell_type": "code",
   "execution_count": 351,
   "metadata": {},
   "outputs": [],
   "source": [
    "#sobel filter\n",
    "convX=np.zeros((3,3),np.double)\n",
    "convX[0,0]=-1; convX[0,1]=0; convX[0,2]=1; convX[1,0]=-2; convX[1,1]=0\n",
    "convX[1,2]=2; convX[2,0]=-1; convX[2,1]=0; convX[2,2]=1\n",
    "\n",
    "convY=np.zeros((3,3),np.double)\n",
    "convY[0,0]=-1; convY[0,1]=-2; convY[0,2]=-1; convY[1,0]=0; convY[1,1]=0\n",
    "convY[1,2]=0; convY[2,0]=1; convY[2,1]=2; convY[2,2]=1"
   ]
  },
  {
   "cell_type": "code",
   "execution_count": 412,
   "metadata": {},
   "outputs": [],
   "source": [
    "img_src_1 = cv2.imread('C:/Users/USER/Documents/computer_vision/1st.jpg')\n",
    "res_1 = cv2.resize(img_src_1, dsize=(378*2, 1008), interpolation=cv2.INTER_CUBIC) # 이미지 resize\n",
    "points_src_1 = get_four_points(res_1) # 각각의 클릭한 point\n",
    "\n",
    "img_src_2 = cv2.imread('C:/Users/USER/Documents/computer_vision/2nd.jpg')\n",
    "res_2 = cv2.resize(img_src_2, dsize=(378*2, 1008), interpolation=cv2.INTER_CUBIC) # 이미지 resize\n",
    "points_src_2 = get_four_points(res_2) # 각각의 클릭한 point\n",
    "\n"
   ]
  },
  {
   "cell_type": "code",
   "execution_count": 413,
   "metadata": {},
   "outputs": [],
   "source": [
    "hist_el_1 = get_hist_el(res_1, points_src_1, 1)\n",
    "hist_el_2 = get_hist_el(res_2, points_src_2, 1)\n"
   ]
  },
  {
   "cell_type": "code",
   "execution_count": 433,
   "metadata": {},
   "outputs": [],
   "source": [
    "hist_1_list = []\n",
    "hist_2_list = []\n",
    "bin = np.arange(0, 360, 30)\n",
    "\n",
    "for i in range(4):\n",
    "    hist_1, bin_edges = np.histogram(get_hist_el(res_1, points_src_1, i), bin)\n",
    "    hist_2, bin_edges = np.histogram(get_hist_el(res_2, points_src_2, i), bin)\n",
    "    over_hist_1 = [hist_1>1] * hist_1\n",
    "    over_hist_2 = [hist_2>1] * hist_2\n",
    "    hist_1_list += [over_hist_1]\n",
    "    hist_2_list += [over_hist_2]"
   ]
  },
  {
   "cell_type": "code",
   "execution_count": 434,
   "metadata": {},
   "outputs": [],
   "source": [
    "matching_list = []\n",
    "for i in range(4):\n",
    "    for j in range(4):\n",
    "        matching_list += [np.abs(np.sum(hist_1_list[i] - hist_2_list[j]))]\n",
    "matching_list = np.array(matching_list).reshape(4, 4)\n",
    "\n",
    "matches = []\n",
    "for i in range(4):\n",
    "    j = np.argmin(matching_list[i])\n",
    "    matches += [[i, j]]\n"
   ]
  },
  {
   "cell_type": "code",
   "execution_count": 435,
   "metadata": {},
   "outputs": [],
   "source": [
    "matches = []\n",
    "for i in range(4):\n",
    "    j = np.argmin(matching_list[i])\n",
    "    matches += [[i, j]]\n"
   ]
  },
  {
   "cell_type": "code",
   "execution_count": 436,
   "metadata": {},
   "outputs": [],
   "source": [
    "r_points_src_2 = np.array(points_src_2) + (0, 378*2)\n",
    "r_points_src_2 = np.hstack((r_points_src_2[:, 1].reshape(4, 1), r_points_src_2[:, 0].reshape(4, 1)))\n",
    "r_points_src_1 = np.array(points_src_1)\n",
    "r_points_src_1 = np.hstack((r_points_src_1[:, 1].reshape(4, 1), r_points_src_1[:, 0].reshape(4, 1)))"
   ]
  },
  {
   "cell_type": "code",
   "execution_count": 437,
   "metadata": {},
   "outputs": [],
   "source": [
    "final_img = cv2.hconcat([res_1, res_2])\n",
    "for i in range(4):\n",
    "    final_img = cv2.line(final_img, r_points_src_1[matches[i][0]], r_points_src_2[matches[i][1]], (0, 0, 255), 3) # 두께 5\n",
    "\n",
    "cv2.imshow('final', final_img)\n",
    "cv2.waitKey(0)\n",
    "cv2.destroyAllWindows()"
   ]
  },
  {
   "cell_type": "code",
   "execution_count": 438,
   "metadata": {},
   "outputs": [
    {
     "data": {
      "image/png": "[encoded data removed]",
      "text/plain": [
       "<Figure size 1800x432 with 4 Axes>"
      ]
     },
     "metadata": {
      "needs_background": "light"
     },
     "output_type": "display_data"
    }
   ],
   "source": [
    "# 1st 히스토그램\n",
    "\n",
    "plt.figure(figsize=(25,6))\n",
    "bin = np.arange(0, 360, 30)\n",
    "\n",
    "plt.subplot(1, 4, 1)\n",
    "plt.hist(get_hist_el(res_1, points_src_1, 0), bin, rwidth=0.8, color='blue', alpha=0.5)\n",
    "plt.grid()\n",
    "plt.xlabel('Angle', fontsize=14)\n",
    "plt.xticks(fontsize=14)\n",
    "plt.yticks(fontsize=14)\n",
    "\n",
    "plt.subplot(1, 4, 2)\n",
    "plt.hist(get_hist_el(res_1, points_src_1, 1), bin, rwidth=0.8, color='blue', alpha=0.5)\n",
    "plt.grid()\n",
    "plt.xlabel('Angle', fontsize=14)\n",
    "plt.xticks(fontsize=14)\n",
    "plt.yticks(fontsize=14)\n",
    "\n",
    "plt.subplot(1, 4, 3)\n",
    "plt.hist(get_hist_el(res_1, points_src_1, 2), bin, rwidth=0.8, color='blue', alpha=0.5)\n",
    "plt.grid()\n",
    "plt.xlabel('Angle', fontsize=14)\n",
    "plt.xticks(fontsize=14)\n",
    "plt.yticks(fontsize=14)\n",
    "\n",
    "plt.subplot(1, 4, 4)\n",
    "plt.hist(get_hist_el(res_1, points_src_1, 3), bin, rwidth=0.8, color='blue', alpha=0.5)\n",
    "plt.grid()\n",
    "plt.xlabel('Angle', fontsize=14)\n",
    "plt.xticks(fontsize=14)\n",
    "plt.yticks(fontsize=14)\n",
    "\n",
    "plt.show()"
   ]
  },
  {
   "cell_type": "code",
   "execution_count": 439,
   "metadata": {},
   "outputs": [
    {
     "data": {
      "text/plain": [
       "(array([ 0.,  2.,  4.,  6.,  8., 10., 12., 14., 16.]),\n",
       " [Text(0, 0, ''),\n",
       "  Text(0, 0, ''),\n",
       "  Text(0, 0, ''),\n",
       "  Text(0, 0, ''),\n",
       "  Text(0, 0, ''),\n",
       "  Text(0, 0, ''),\n",
       "  Text(0, 0, ''),\n",
       "  Text(0, 0, ''),\n",
       "  Text(0, 0, '')])"
      ]
     },
     "execution_count": 439,
     "metadata": {},
     "output_type": "execute_result"
    },
    {
     "data": {
      "image/png": "[encoded data removed]",
      "text/plain": [
       "<Figure size 1800x432 with 4 Axes>"
      ]
     },
     "metadata": {
      "needs_background": "light"
     },
     "output_type": "display_data"
    }
   ],
   "source": [
    "# 2nd 히스토그램\n",
    "\n",
    "plt.figure(figsize=(25,6))\n",
    "bin = np.arange(0, 360, 30)\n",
    "\n",
    "plt.subplot(1, 4, 1)\n",
    "plt.hist(get_hist_el(res_2, points_src_2, 0), bin, rwidth=0.8, color='blue', alpha=0.5)\n",
    "plt.grid()\n",
    "plt.xlabel('Angle', fontsize=14)\n",
    "plt.xticks(fontsize=14)\n",
    "plt.yticks(fontsize=14)\n",
    "\n",
    "plt.subplot(1, 4, 2)\n",
    "plt.hist(get_hist_el(res_2, points_src_2, 1), bin, rwidth=0.8, color='blue', alpha=0.5)\n",
    "plt.grid()\n",
    "plt.xlabel('Angle', fontsize=14)\n",
    "plt.xticks(fontsize=14)\n",
    "plt.yticks(fontsize=14)\n",
    "\n",
    "plt.subplot(1, 4, 3)\n",
    "plt.hist(get_hist_el(res_2, points_src_2, 2), bin, rwidth=0.8, color='blue', alpha=0.5)\n",
    "plt.grid()\n",
    "plt.xlabel('Angle', fontsize=14)\n",
    "plt.xticks(fontsize=14)\n",
    "plt.yticks(fontsize=14)\n",
    "\n",
    "plt.subplot(1, 4, 4)\n",
    "plt.hist(get_hist_el(res_2, points_src_2, 3), bin, rwidth=0.8, color='blue', alpha=0.5)\n",
    "plt.grid()\n",
    "plt.xlabel('Angle', fontsize=14)\n",
    "plt.xticks(fontsize=14)\n",
    "plt.yticks(fontsize=14)\n"
   ]
  },
  {
   "cell_type": "code",
   "execution_count": null,
   "metadata": {},
   "outputs": [],
   "source": []
  }
 ],
 "metadata": {
  "interpreter": {
   "hash": "42588fd11209419b7c81abe23e31a1d2101f60811b02170c268e57ebb57d5d9a"
  },
  "kernelspec": {
   "display_name": "Python 3.9.7 ('base')",
   "language": "python",
   "name": "python3"
  },
  "language_info": {
   "codemirror_mode": {
    "name": "ipython",
    "version": 3
   },
   "file_extension": ".py",
   "mimetype": "text/x-python",
   "name": "python",
   "nbconvert_exporter": "python",
   "pygments_lexer": "ipython3",
   "version": "3.9.7"
  },
  "orig_nbformat": 4
 },
 "nbformat": 4,
 "nbformat_minor": 2
}
