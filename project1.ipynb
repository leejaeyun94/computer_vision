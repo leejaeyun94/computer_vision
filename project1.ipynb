{
 "cells": [
  {
   "cell_type": "code",
   "execution_count": 6,
   "metadata": {},
   "outputs": [],
   "source": [
    "import cv2\n",
    "import numpy as np"
   ]
  },
  {
   "cell_type": "code",
   "execution_count": 7,
   "metadata": {},
   "outputs": [],
   "source": [
    "# 마우스로 클릭하여 점 만드는 함수\n",
    "\n",
    "def mouse_handler(event, x, y, flasgs, data):\n",
    "    if  event == cv2.EVENT_LBUTTONDOWN: # 마우스 왼쪽 클릭\n",
    "        cv2.circle(data['im'], (x, y), 3, (0, 0, 255), -1)\n",
    "        cv2.imshow('image', data['im'])\n",
    "        if len(data['points']) < 4:\n",
    "            data['points'].append([x, y])\n",
    "\n",
    "# 네 개의 좌표를 찍는 함수\n",
    "def get_four_points(im):\n",
    "    data = {}\n",
    "    data['im'] = im.copy()\n",
    "    data['points'] = []\n",
    "\n",
    "    cv2.imshow('image', im)\n",
    "    cv2.setMouseCallback('image', mouse_handler, data)\n",
    "    cv2.waitKey()\n",
    "\n",
    "    # 유저가 마우스로 찍은 점을 float으로 바꿔줘야한다.\n",
    "    points = np.array(data['points'], dtype=float)\n",
    "\n",
    "    return points"
   ]
  },
  {
   "cell_type": "code",
   "execution_count": 22,
   "metadata": {},
   "outputs": [
    {
     "name": "stdout",
     "output_type": "stream",
     "text": [
      "(504, 378, 3)\n"
     ]
    }
   ],
   "source": [
    "img_src = cv2.imread('C:/Users/USER/Documents/computer_vision/1st.jpg')\n",
    "res = cv2.resize(img_src, dsize=(378, 504), interpolation=cv2.INTER_CUBIC)\n",
    "\n",
    "cv2.imshow('res', res)\n",
    "cv2.waitKey()\n",
    "cv2.destroyAllWindows()\n",
    "print(res.shape)"
   ]
  },
  {
   "cell_type": "code",
   "execution_count": null,
   "metadata": {},
   "outputs": [],
   "source": [
    "# 우리가 원본이미지로부터는 마우스 클릭으로 4개의 점을 가져온다.\n",
    "# 새로만들 이미지에서는, 위의 원본 이미지 4개의 점과 매핑할 점을 잡아줘야한다.\n",
    " \n",
    "# cv2.imshow('image',img_src)\n",
    " \n",
    "# 함수를 호출하여 이미지 작업한다.\n",
    "points_src = get_four_points(img_src) # 함수호출\n",
    " \n",
    "points_dst = np.array([ 0,0, dst_size[1],0, \n",
    "            dst_size[1],dst_size[0], 0,dst_size[0] ], dtype=float)\n",
    " \n",
    "points_dst = points_dst.reshape(4,2)\n",
    " \n",
    "h, status = cv2.findHomography(points_src, points_dst)\n",
    " \n",
    "img_dst = cv2.warpPerspective(img_src, h, (dst_size[1],dst_size[0]) )\n",
    " \n",
    "cv2.imshow('result',img_dst)\n",
    " \n",
    "cv2.waitKey()\n",
    "cv2.destroyAllWindows()"
   ]
  }
 ],
 "metadata": {
  "interpreter": {
   "hash": "42588fd11209419b7c81abe23e31a1d2101f60811b02170c268e57ebb57d5d9a"
  },
  "kernelspec": {
   "display_name": "Python 3.9.7 ('base')",
   "language": "python",
   "name": "python3"
  },
  "language_info": {
   "codemirror_mode": {
    "name": "ipython",
    "version": 3
   },
   "file_extension": ".py",
   "mimetype": "text/x-python",
   "name": "python",
   "nbconvert_exporter": "python",
   "pygments_lexer": "ipython3",
   "version": "3.9.7"
  },
  "orig_nbformat": 4
 },
 "nbformat": 4,
 "nbformat_minor": 2
}
