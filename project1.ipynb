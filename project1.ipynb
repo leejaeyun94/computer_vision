{
 "cells": [
  {
   "cell_type": "code",
   "execution_count": 224,
   "metadata": {},
   "outputs": [],
   "source": [
    "import cv2\n",
    "import numpy as np\n",
    "import math\n",
    "from collections import Counter\n",
    "import matplotlib.pyplot as plt\n",
    "from numpy.lib.stride_tricks import as_strided\n"
   ]
  },
  {
   "cell_type": "code",
   "execution_count": 215,
   "metadata": {},
   "outputs": [],
   "source": [
    "# 마우스로 클릭하여 점 만드는 함수\n",
    "\n",
    "def mouse_handler(event, x, y, flasgs, data):\n",
    "    if  event == cv2.EVENT_LBUTTONDOWN: # 마우스 왼쪽 클릭\n",
    "        cv2.circle(data['im'], (x, y), 3, (0, 0, 255), -1)\n",
    "        cv2.imshow('image', data['im'])\n",
    "        if len(data['points']) < 4:\n",
    "            data['points'].append((y, x))\n",
    "\n",
    "# 네 개의 좌표를 찍는 함수\n",
    "def get_four_points(im):\n",
    "    data = {}\n",
    "    data['im'] = im.copy()\n",
    "    data['points'] = []\n",
    "\n",
    "    cv2.imshow('image', im)\n",
    "    cv2.setMouseCallback('image', mouse_handler, data)\n",
    "    cv2.waitKey()\n",
    "    cv2.destroyAllWindows()\n",
    "    points = data['points']\n",
    "    # 마우스로 찍은 점을 float으로 바꿔줘야한다.\n",
    "    #points = np.array(data['points'], dtype=float)\n",
    "\n",
    "    return points"
   ]
  },
  {
   "cell_type": "code",
   "execution_count": 216,
   "metadata": {},
   "outputs": [
    {
     "name": "stdout",
     "output_type": "stream",
     "text": [
      "[(93, 169), (239, 19), (455, 219), (303, 372)]\n"
     ]
    }
   ],
   "source": [
    "img_src = cv2.imread('C:/Users/USER/Documents/computer_vision/1st.jpg')\n",
    "res = cv2.resize(img_src, dsize=(378, 504), interpolation=cv2.INTER_CUBIC) # 이미지 resize\n",
    "points_src = get_four_points(res) # 각각의 클릭한 point\n",
    "\n",
    "print(points_src)"
   ]
  },
  {
   "cell_type": "code",
   "execution_count": 426,
   "metadata": {},
   "outputs": [],
   "source": [
    "#sobel filter\n",
    "convX=np.zeros((3,3),np.double)\n",
    "convX[0,0]=-1; convX[0,1]=0; convX[0,2]=1; convX[1,0]=-2; convX[1,1]=0\n",
    "convX[1,2]=2; convX[2,0]=-1; convX[2,1]=0; convX[2,2]=1\n",
    "\n",
    "convY=np.zeros((3,3),np.double)\n",
    "convY[0,0]=-1; convY[0,1]=-2; convY[0,2]=-1; convY[1,0]=0; convY[1,1]=0\n",
    "convY[1,2]=0; convY[2,0]=1; convY[2,1]=2; convY[2,2]=1"
   ]
  },
  {
   "cell_type": "code",
   "execution_count": 268,
   "metadata": {},
   "outputs": [],
   "source": [
    "# 이미지 gary 변형\n",
    "res_gray = cv2.cvtColor(res, cv2.COLOR_BGR2GRAY)"
   ]
  },
  {
   "cell_type": "code",
   "execution_count": 427,
   "metadata": {},
   "outputs": [],
   "source": [
    "h, w = 9, 9\n",
    "imgContoursX = []\n",
    "imgContoursY = []\n",
    "contours_a=[]\n",
    "contours_b=[]\n",
    "contours = []\n",
    "\n",
    "# 해당 픽셀 주변 9*9 window를 설정하여 그래디언트 계산\n",
    "for i in range(points_src[0][0] - 4, points_src[0][0] + 4 + 1):\n",
    "    for j in range(points_src[0][1] -4, points_src[0][1] + 4 + 1):\n",
    "        imgContoursX.append(np.sum(np.multiply(convX, res_gray[i-1 : i+2, j-1 : j+2])))\n",
    "        imgContoursY.append(np.sum(np.multiply(convY, res_gray[i-1 : i+2, j-1 : j+2])))\n",
    "\n",
    "imgContoursX = np.array(imgContoursX).reshape(9,9).T\n",
    "imgContoursY = np.array(imgContoursX).reshape(9,9).T\n",
    "\n",
    "# 벡터의 크기\n",
    "mag = np.sqrt(imgContoursX ** 2 + imgContoursY ** 2)\n",
    "\n",
    "for a in range(mag.shape[0]):\n",
    "    for b in range(mag.shape[1]):\n",
    "        if mag[a][b] < 30:\n",
    "            mag[a][b] = 0\n",
    "        else:\n",
    "            contours.append([a, b])\n",
    "            contours_a.append(a)\n",
    "            contours_b.append(b)\n",
    "# 벡터의 각도\n",
    "angles = (np.arctan2(imgContoursX, imgContoursY) + np.pi) * 180/np.pi            "
   ]
  },
  {
   "cell_type": "code",
   "execution_count": 428,
   "metadata": {},
   "outputs": [],
   "source": [
    "# 각도의 리스트\n",
    "angle_list = []\n",
    "for i in range(len(contours_a)):\n",
    "    angle = angles[contours_a[i]][contours_b[i]]\n",
    "    angle_list.append(angle)"
   ]
  },
  {
   "cell_type": "code",
   "execution_count": 425,
   "metadata": {},
   "outputs": [
    {
     "data": {
      "image/png": "[encoded data removed]",
      "text/plain": [
       "<Figure size 432x288 with 1 Axes>"
      ]
     },
     "metadata": {
      "needs_background": "light"
     },
     "output_type": "display_data"
    }
   ],
   "source": [
    "# 히스토그램 출력\n",
    "bin = np.arange(0, 360, 10)\n",
    "hist, bin_edges = np.histogram(angle_list, bin)\n",
    "q = np.sum(hist)\n",
    "\n",
    "plt.hist(angle_list, bin, rwidth=0.8, color='blue', alpha=0.5)\n",
    "plt.grid()\n",
    "plt.xlabel('Angle', fontsize=14)\n",
    "plt.xticks(fontsize=14)\n",
    "plt.yticks(fontsize=14)\n",
    "plt.show()"
   ]
  }
 ],
 "metadata": {
  "interpreter": {
   "hash": "42588fd11209419b7c81abe23e31a1d2101f60811b02170c268e57ebb57d5d9a"
  },
  "kernelspec": {
   "display_name": "Python 3.9.7 ('base')",
   "language": "python",
   "name": "python3"
  },
  "language_info": {
   "codemirror_mode": {
    "name": "ipython",
    "version": 3
   },
   "file_extension": ".py",
   "mimetype": "text/x-python",
   "name": "python",
   "nbconvert_exporter": "python",
   "pygments_lexer": "ipython3",
   "version": "3.9.7"
  },
  "orig_nbformat": 4
 },
 "nbformat": 4,
 "nbformat_minor": 2
}
