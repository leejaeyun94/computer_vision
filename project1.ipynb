{
 "cells": [
  {
   "cell_type": "code",
   "execution_count": 224,
   "metadata": {},
   "outputs": [],
   "source": [
    "import cv2\n",
    "import numpy as np\n",
    "import math\n",
    "from collections import Counter\n",
    "import matplotlib.pyplot as plt\n",
    "from numpy.lib.stride_tricks import as_strided\n"
   ]
  },
  {
   "cell_type": "code",
   "execution_count": 215,
   "metadata": {},
   "outputs": [],
   "source": [
    "# 마우스로 클릭하여 점 만드는 함수\n",
    "\n",
    "def mouse_handler(event, x, y, flasgs, data):\n",
    "    if  event == cv2.EVENT_LBUTTONDOWN: # 마우스 왼쪽 클릭\n",
    "        cv2.circle(data['im'], (x, y), 3, (0, 0, 255), -1)\n",
    "        cv2.imshow('image', data['im'])\n",
    "        if len(data['points']) < 4:\n",
    "            data['points'].append((y, x))\n",
    "\n",
    "# 네 개의 좌표를 찍는 함수\n",
    "def get_four_points(im):\n",
    "    data = {}\n",
    "    data['im'] = im.copy()\n",
    "    data['points'] = []\n",
    "\n",
    "    cv2.imshow('image', im)\n",
    "    cv2.setMouseCallback('image', mouse_handler, data)\n",
    "    cv2.waitKey()\n",
    "    cv2.destroyAllWindows()\n",
    "    points = data['points']\n",
    "    # 마우스로 찍은 점을 float으로 바꿔줘야한다.\n",
    "    #points = np.array(data['points'], dtype=float)\n",
    "\n",
    "    return points"
   ]
  },
  {
   "cell_type": "code",
   "execution_count": 216,
   "metadata": {},
   "outputs": [
    {
     "name": "stdout",
     "output_type": "stream",
     "text": [
      "[(93, 169), (239, 19), (455, 219), (303, 372)]\n"
     ]
    }
   ],
   "source": [
    "img_src = cv2.imread('C:/Users/USER/Documents/computer_vision/1st.jpg')\n",
    "res = cv2.resize(img_src, dsize=(378, 504), interpolation=cv2.INTER_CUBIC) # 이미지 resize\n",
    "points_src = get_four_points(res) # 각각의 클릭한 point\n",
    "\n",
    "print(points_src)"
   ]
  },
  {
   "cell_type": "code",
   "execution_count": 426,
   "metadata": {},
   "outputs": [],
   "source": [
    "#sobel filter\n",
    "convX=np.zeros((3,3),np.double)\n",
    "convX[0,0]=-1; convX[0,1]=0; convX[0,2]=1; convX[1,0]=-2; convX[1,1]=0\n",
    "convX[1,2]=2; convX[2,0]=-1; convX[2,1]=0; convX[2,2]=1\n",
    "\n",
    "convY=np.zeros((3,3),np.double)\n",
    "convY[0,0]=-1; convY[0,1]=-2; convY[0,2]=-1; convY[1,0]=0; convY[1,1]=0\n",
    "convY[1,2]=0; convY[2,0]=1; convY[2,1]=2; convY[2,2]=1"
   ]
  },
  {
   "cell_type": "code",
   "execution_count": 268,
   "metadata": {},
   "outputs": [],
   "source": [
    "# 이미지 gary 변형\n",
    "res_gray = cv2.cvtColor(res, cv2.COLOR_BGR2GRAY)"
   ]
  },
  {
   "cell_type": "code",
   "execution_count": 393,
   "metadata": {},
   "outputs": [],
   "source": [
    "h, w = 9, 9\n",
    "imgContoursX = []\n",
    "imgContoursY = []\n",
    "contours_a=[]\n",
    "contours_b=[]\n",
    "contours = []\n",
    "\n",
    "for i in range(points_src[0][0] - 4, points_src[0][0] + 4 + 1):\n",
    "    for j in range(points_src[0][1] -4, points_src[0][1] + 4 + 1):\n",
    "        imgContoursX.append(np.sum(np.multiply(convX, res_gray[i-1 : i+2, j-1 : j+2])))\n",
    "        imgContoursY.append(np.sum(np.multiply(convY, res_gray[i-1 : i+2, j-1 : j+2])))\n",
    "\n",
    "imgContoursX = np.array(imgContoursX).reshape(9,9).T\n",
    "imgContoursY = np.array(imgContoursX).reshape(9,9).T\n",
    "\n",
    "imgContours = np.sqrt(imgContoursX ** 2 + imgContoursY ** 2)\n",
    "\n",
    "tmp = 0\n",
    "for a in range(imgContours.shape[0]):\n",
    "    for b in range(imgContours.shape[1]):\n",
    "        if imgContours[a][b] < 30:\n",
    "            imgContours[a][b] = 0\n",
    "        else:\n",
    "            contours.append([a, b])\n",
    "            contours_a.append(a)\n",
    "            contours_b.append(b)"
   ]
  },
  {
   "cell_type": "code",
   "execution_count": 407,
   "metadata": {},
   "outputs": [],
   "source": [
    "angles = (np.arctan2(imgContoursX, imgContoursY) + np.pi) * 180/np.pi\n"
   ]
  },
  {
   "cell_type": "code",
   "execution_count": 409,
   "metadata": {},
   "outputs": [],
   "source": [
    "angle_list = []\n",
    "for i in range(len(contours_a)):\n",
    "    angle = angles[contours_a[i]][contours_b[i]]\n",
    "    angle_list.append(angle)"
   ]
  },
  {
   "cell_type": "code",
   "execution_count": 425,
   "metadata": {},
   "outputs": [
    {
     "data": {
      "image/png": "[encoded data removed]",
      "text/plain": [
       "<Figure size 432x288 with 1 Axes>"
      ]
     },
     "metadata": {
      "needs_background": "light"
     },
     "output_type": "display_data"
    }
   ],
   "source": [
    "bin = np.arange(0, 360, 10)\n",
    "hist, bin_edges = np.histogram(angle_list, bin)\n",
    "q = np.sum(hist)\n",
    "\n",
    "plt.hist(angle_list, bin, rwidth=0.8, color='blue', alpha=0.5)\n",
    "plt.grid()\n",
    "plt.xlabel('Angle', fontsize=14)\n",
    "plt.xticks(fontsize=14)\n",
    "plt.yticks(fontsize=14)\n",
    "plt.show()"
   ]
  },
  {
   "cell_type": "code",
   "execution_count": 371,
   "metadata": {},
   "outputs": [],
   "source": [
    "def anglesStringsArray():\n",
    "    angle_string = []\n",
    "    for angle in range(0, 360, 10):\n",
    "        angle_string.append(angle)\n",
    "    return angle_string"
   ]
  },
  {
   "cell_type": "code",
   "execution_count": 373,
   "metadata": {},
   "outputs": [],
   "source": [
    "angle_string = []\n",
    "for angle in range(0, 360, 10):\n",
    "    angle_string.append(angle)\n"
   ]
  },
  {
   "cell_type": "code",
   "execution_count": null,
   "metadata": {},
   "outputs": [],
   "source": [
    "def roundAngleTitle(angle):\n",
    "    anglesStrings = anglesStringsArray()\n",
    "    angles = anglesArray()\n",
    "    a=np.argmin(np.abs(np.subtract(angles,angle)))\n",
    "    return anglesStrings[a]"
   ]
  },
  {
   "cell_type": "code",
   "execution_count": 347,
   "metadata": {},
   "outputs": [],
   "source": [
    "def anglesArray():\n",
    "    angles = []\n",
    "    i=0\n",
    "    while True:\n",
    "        angles.append(math.pi*i)\n",
    "        i+=1/4\n",
    "        if(i==2):\n",
    "            break\n",
    "    return angles"
   ]
  },
  {
   "cell_type": "code",
   "execution_count": 351,
   "metadata": {},
   "outputs": [],
   "source": [
    "def roundAngle(angle):\n",
    "    angles = anglesArray()\n",
    "    index=np.argmin(np.abs(np.subtract(angles,angle)))\n",
    "    angles = anglesArray()\n",
    "    a=angles[index]\n",
    "    return a"
   ]
  },
  {
   "cell_type": "code",
   "execution_count": 350,
   "metadata": {},
   "outputs": [],
   "source": [
    "def roundAngleTitle(angle):\n",
    "    anglesStrings = anglesStringsArray()\n",
    "    angles = anglesArray()\n",
    "    a=np.argmin(np.abs(np.subtract(angles,angle)))\n",
    "    return anglesStrings[a]"
   ]
  },
  {
   "cell_type": "code",
   "execution_count": 352,
   "metadata": {},
   "outputs": [
    {
     "ename": "ValueError",
     "evalue": "operands could not be broadcast together with shapes (8,) (9,9) ",
     "output_type": "error",
     "traceback": [
      "\u001b[1;31m---------------------------------------------------------------------------\u001b[0m",
      "\u001b[1;31mValueError\u001b[0m                                Traceback (most recent call last)",
      "\u001b[1;32m~\\AppData\\Local\\Temp/ipykernel_27520/3118828879.py\u001b[0m in \u001b[0;36m<module>\u001b[1;34m\u001b[0m\n\u001b[1;32m----> 1\u001b[1;33m \u001b[0mroundAngle\u001b[0m\u001b[1;33m(\u001b[0m\u001b[0md\u001b[0m\u001b[1;33m)\u001b[0m\u001b[1;33m\u001b[0m\u001b[1;33m\u001b[0m\u001b[0m\n\u001b[0m",
      "\u001b[1;32m~\\AppData\\Local\\Temp/ipykernel_27520/2447799379.py\u001b[0m in \u001b[0;36mroundAngle\u001b[1;34m(angle)\u001b[0m\n\u001b[0;32m      1\u001b[0m \u001b[1;32mdef\u001b[0m \u001b[0mroundAngle\u001b[0m\u001b[1;33m(\u001b[0m\u001b[0mangle\u001b[0m\u001b[1;33m)\u001b[0m\u001b[1;33m:\u001b[0m\u001b[1;33m\u001b[0m\u001b[1;33m\u001b[0m\u001b[0m\n\u001b[0;32m      2\u001b[0m     \u001b[0mangles\u001b[0m \u001b[1;33m=\u001b[0m \u001b[0manglesArray\u001b[0m\u001b[1;33m(\u001b[0m\u001b[1;33m)\u001b[0m\u001b[1;33m\u001b[0m\u001b[1;33m\u001b[0m\u001b[0m\n\u001b[1;32m----> 3\u001b[1;33m     \u001b[0mindex\u001b[0m\u001b[1;33m=\u001b[0m\u001b[0mnp\u001b[0m\u001b[1;33m.\u001b[0m\u001b[0margmin\u001b[0m\u001b[1;33m(\u001b[0m\u001b[0mnp\u001b[0m\u001b[1;33m.\u001b[0m\u001b[0mabs\u001b[0m\u001b[1;33m(\u001b[0m\u001b[0mnp\u001b[0m\u001b[1;33m.\u001b[0m\u001b[0msubtract\u001b[0m\u001b[1;33m(\u001b[0m\u001b[0mangles\u001b[0m\u001b[1;33m,\u001b[0m\u001b[0mangle\u001b[0m\u001b[1;33m)\u001b[0m\u001b[1;33m)\u001b[0m\u001b[1;33m)\u001b[0m\u001b[1;33m\u001b[0m\u001b[1;33m\u001b[0m\u001b[0m\n\u001b[0m\u001b[0;32m      4\u001b[0m     \u001b[0mangles\u001b[0m \u001b[1;33m=\u001b[0m \u001b[0manglesArray\u001b[0m\u001b[1;33m(\u001b[0m\u001b[1;33m)\u001b[0m\u001b[1;33m\u001b[0m\u001b[1;33m\u001b[0m\u001b[0m\n\u001b[0;32m      5\u001b[0m     \u001b[0ma\u001b[0m\u001b[1;33m=\u001b[0m\u001b[0mangles\u001b[0m\u001b[1;33m[\u001b[0m\u001b[0mindex\u001b[0m\u001b[1;33m]\u001b[0m\u001b[1;33m\u001b[0m\u001b[1;33m\u001b[0m\u001b[0m\n",
      "\u001b[1;31mValueError\u001b[0m: operands could not be broadcast together with shapes (8,) (9,9) "
     ]
    }
   ],
   "source": [
    "roundAngle(d)"
   ]
  },
  {
   "cell_type": "code",
   "execution_count": 342,
   "metadata": {},
   "outputs": [],
   "source": [
    "def getOrientation(img,x,y):\n",
    "    global imgContoursX,imgContoursY\n",
    "    if(x<0 or x>w-1 or y<0 or y>h-1):\n",
    "        d=0\n",
    "    else:\n",
    "        d=math.atan2(imgContoursY[y][x],imgContoursX[y][x])\n",
    "    d+=math.pi\n",
    "    return d\n",
    "\n",
    "def getBlock(img,x,y):\n",
    "    a=[]\n",
    "    block=np.zeros((16,16),np.double)\n",
    "    for i in range(x-8,x+8):\n",
    "        for j in range(y-8,y+8):\n",
    "            angle=roundAngle(getOrientation(img,i,j))\n",
    "            block[j-y+8][i-x+8]=angle\n",
    "    # block=np.zeros((4,4),np.double)\n",
    "    # for i in range(x-8,x+8):\n",
    "    #     for j in range(y-8,y+8):\n",
    "    #         xb=(i-x+8)//4\n",
    "    #         yb=(j-y+8)//4\n",
    "    #         angle=roundAngle(getOrientation(img,i,j))\n",
    "    #         block[yb][xb]=max(block[yb][xb],angle)\n",
    "    #         a.append(angle)\n",
    "    return block\n",
    "\n",
    "\n",
    "def anglesArray():\n",
    "    angles = []\n",
    "    i=0\n",
    "    while True:\n",
    "        angles.append(math.pi*i)\n",
    "        i+=1/4\n",
    "        if(i==2):\n",
    "            break\n",
    "    return angles\n",
    "\n",
    "def anglesStringsArray():\n",
    "    return [\"0\",\"π/4\",\"π/2\",\"3π/4\",\"π\",\"5π/4\",\"3π/2\",\"7π/4\"]\n",
    "\n",
    "def roundAngle(angle):\n",
    "    angles = anglesArray()\n",
    "    index=np.argmin(np.abs(np.subtract(angles,angle)))\n",
    "    angles = anglesArray()\n",
    "    a=angles[index]\n",
    "    return a\n",
    "\n",
    "def roundAngleTitle(angle):\n",
    "    anglesStrings = anglesStringsArray()\n",
    "    angles = anglesArray()\n",
    "    a=np.argmin(np.abs(np.subtract(angles,angle)))\n",
    "    return anglesStrings[a]\n",
    "\n",
    "def roundAngleIndex(angle):\n",
    "    angles = anglesArray()\n",
    "    a=np.argmin(np.abs(np.subtract(angles,angle)))\n",
    "    return a\n",
    "\n",
    "def showHist(tempdicArray):\n",
    "    fig, ax = plt.subplots(4,4,figsize=(14,8))\n",
    "    for i in range (0,len(tempdicArray)): \n",
    "        x=(int)(i/4)\n",
    "        ax[x][i%4].bar(list(tempdicArray[i].keys()), tempdicArray[i].values(), color='b')\n",
    "    fig.tight_layout()\n",
    "    plt.show()\n"
   ]
  },
  {
   "cell_type": "code",
   "execution_count": null,
   "metadata": {},
   "outputs": [],
   "source": [
    "blocks=getBlock(img,11,11)\n",
    "dic={}\n",
    "histogrammes=[]\n",
    "for block in blocks:\n",
    "    #count orientations for histogramme\n",
    "    array=np.matrix.flatten(block)\n",
    "    count=Counter(array)\n",
    "    for c in count:\n",
    "        dic[roundAngleTitle(c)]=count[c]\n",
    "    histogrammes.append(dic.copy())\n",
    "    dic={}\n",
    "\n",
    "showHist(histogrammes)\n",
    "\n",
    "cv2.imshow('image : '+s, img)\n",
    "cv2.waitKey(0)"
   ]
  },
  {
   "cell_type": "code",
   "execution_count": 203,
   "metadata": {},
   "outputs": [],
   "source": [
    "def getContours(img,seuil=30):\n",
    "    contours=[]\n",
    "    img = cv2.cvtColor(img, cv2.COLOR_BGR2GRAY)\n",
    "    h, w = np.shape(img)\n",
    "    imgContours=np.zeros((h,w),np.double)\n",
    "    imgContoursX=np.zeros((h,w),np.double)\n",
    "    imgContoursY=np.zeros((h,w),np.double)\n",
    "    for i in range(0,h):\n",
    "        for j in range (0,w):\n",
    "            if(j==0 or j==w-1 or i==0 or i==h-1):\n",
    "                imgContoursX[i][j]=0\n",
    "                imgContoursY[i][j]=0\n",
    "            else:\n",
    "                imgContoursX[i][j] = (np.multiply( convX,img[i-1:i+2,j-1:j+2]).sum(axis=1).sum(axis=0))\n",
    "                imgContoursY[i][j] = (np.multiply( convY,img[i-1:i+2,j-1:j+2]).sum(axis=1).sum(axis=0))\n",
    "            a=math.sqrt(math.pow(imgContoursX[i][j],2)+math.pow(imgContoursY[i][j],2))\n",
    "            a=min(a,255)\n",
    "            a=max(a,0)\n",
    "            if(a>seuil):\n",
    "                imgContours[i][j]=a\n",
    "                contours.append([i,j])\n",
    "    return imgContours,contours,imgContoursX,imgContoursY"
   ]
  },
  {
   "cell_type": "code",
   "execution_count": null,
   "metadata": {},
   "outputs": [],
   "source": []
  },
  {
   "cell_type": "code",
   "execution_count": 204,
   "metadata": {},
   "outputs": [
    {
     "data": {
      "text/plain": [
       "0.0"
      ]
     },
     "execution_count": 204,
     "metadata": {},
     "output_type": "execute_result"
    }
   ],
   "source": [
    "img_1 = np.ones((3,3))\n",
    "np.sum(np.multiply(convX, img_1))"
   ]
  },
  {
   "cell_type": "code",
   "execution_count": 114,
   "metadata": {},
   "outputs": [],
   "source": [
    "res_gray = cv2.cvtColor(res, cv2.COLOR_BGR2GRAY)\n",
    "gx_ = cv2.Sobel(res_gray, cv2.CV_32F, 1, 0, ksize=1)\n",
    "gy_ = cv2.Sobel(res_gray, cv2.CV_32F, 0, 1, ksize=1)\n",
    "\n",
    "gx = cv2.normalize(gx_, None, 0, 255, cv2.NORM_MINMAX, cv2.CV_8U)\n",
    "gy = cv2.normalize(gy_, None, 0, 255, cv2.NORM_MINMAX, cv2.CV_8U)\n",
    "\n",
    "cv2.imshow('image', gx)\n",
    "cv2.waitKey()\n",
    "cv2.destroyAllWindows()"
   ]
  },
  {
   "cell_type": "code",
   "execution_count": 67,
   "metadata": {},
   "outputs": [
    {
     "name": "stdout",
     "output_type": "stream",
     "text": [
      "140\n",
      "140\n",
      "136\n"
     ]
    }
   ],
   "source": [
    "print(res_gray[239, 14])\n",
    "print(res_gray[239, 15])\n",
    "print(res_gray[239, 16])"
   ]
  },
  {
   "cell_type": "code",
   "execution_count": 65,
   "metadata": {},
   "outputs": [
    {
     "data": {
      "text/plain": [
       "124"
      ]
     },
     "execution_count": 65,
     "metadata": {},
     "output_type": "execute_result"
    }
   ],
   "source": [
    "gx[239, 15]"
   ]
  },
  {
   "cell_type": "code",
   "execution_count": 119,
   "metadata": {},
   "outputs": [],
   "source": [
    "\n"
   ]
  },
  {
   "cell_type": "code",
   "execution_count": 120,
   "metadata": {},
   "outputs": [],
   "source": []
  },
  {
   "cell_type": "code",
   "execution_count": 121,
   "metadata": {},
   "outputs": [
    {
     "data": {
      "text/plain": [
       "121"
      ]
     },
     "execution_count": 121,
     "metadata": {},
     "output_type": "execute_result"
    }
   ],
   "source": [
    "len(img_patch_1)"
   ]
  },
  {
   "cell_type": "code",
   "execution_count": 122,
   "metadata": {},
   "outputs": [],
   "source": [
    "#필터(그래디언트)를 적용한 후 해당 픽셀의 그래디언트 값 출력\n",
    "def contour(img_patch):\n",
    "    contour_list_x = []\n",
    "    for pixel_x in img_patch:\n",
    "        pixel_x = tuple(pixel_x)\n",
    "        contour_list_x.append(gx[pixel_x])\n",
    "    contour_list_y = []\n",
    "    for pixel_y in img_patch:\n",
    "        pixel_y = tuple(pixel_y)\n",
    "        contour_list_y.append(gy[pixel_y])\n",
    "    return contour_list_x, contour_list_y"
   ]
  },
  {
   "cell_type": "code",
   "execution_count": 163,
   "metadata": {},
   "outputs": [
    {
     "data": {
      "text/plain": [
       "121"
      ]
     },
     "execution_count": 163,
     "metadata": {},
     "output_type": "execute_result"
    }
   ],
   "source": [
    "contour_list_x, contour_list_y = contour(img_patch_4)\n",
    "# 그래디언트 값의 magnitude\n",
    "mag = np.sqrt(np.array(contour_list_x) ** 2 + np.array(contour_list_y) ** 2)\n",
    "# 그래디언트 값의 orientation\n",
    "len(contour_list_x)"
   ]
  },
  {
   "cell_type": "code",
   "execution_count": 164,
   "metadata": {},
   "outputs": [
    {
     "data": {
      "text/plain": [
       "113.5284537422305"
      ]
     },
     "execution_count": 164,
     "metadata": {},
     "output_type": "execute_result"
    }
   ],
   "source": [
    "angle_list = []\n",
    "for i in range(len(img_patch_1)):\n",
    "    radian = np.arctan2(contour_list_x[i], contour_list_y[i])\n",
    "    angle = math.degrees(2 * radian)\n",
    "    angle_list.append(angle)\n",
    "max(angle_list)"
   ]
  },
  {
   "cell_type": "code",
   "execution_count": 151,
   "metadata": {},
   "outputs": [
    {
     "data": {
      "text/plain": [
       "244.01012867477166"
      ]
     },
     "execution_count": 151,
     "metadata": {},
     "output_type": "execute_result"
    }
   ],
   "source": [
    "angle_list = []\n",
    "for i in range(len(img_patch_1)):\n",
    "    angle_list.append((np.arctan2(contour_list_x[i], contour_list_y[i]) + np.pi) * 180/np.pi)\n",
    "max(angle_list)"
   ]
  },
  {
   "cell_type": "code",
   "execution_count": 81,
   "metadata": {},
   "outputs": [],
   "source": [
    "def angles_array():\n",
    "    angles = []\n",
    "    i=0\n",
    "    while True:\n",
    "        angles.append(math.pi*i)\n",
    "        i+=1/4\n",
    "        if(i==2):\n",
    "            break\n",
    "    return angles"
   ]
  },
  {
   "cell_type": "code",
   "execution_count": 82,
   "metadata": {},
   "outputs": [],
   "source": [
    "def anglesArray():\n",
    "    angles = []\n",
    "    i=0\n",
    "    while True:\n",
    "        angles.append(math.pi*i)\n",
    "        i+=1/4\n",
    "        if(i==2):\n",
    "            break\n",
    "    return angles\n"
   ]
  },
  {
   "cell_type": "code",
   "execution_count": 83,
   "metadata": {},
   "outputs": [],
   "source": [
    "def anglesStringsArray():\n",
    "    return [\"0\",\"π/4\",\"π/2\",\"3π/4\",\"π\",\"5π/4\",\"3π/2\",\"7π/4\"]"
   ]
  },
  {
   "cell_type": "code",
   "execution_count": 84,
   "metadata": {},
   "outputs": [],
   "source": [
    "def roundAngle(angle):\n",
    "    angles = anglesArray()\n",
    "    index=np.argmin(np.abs(np.subtract(angles,angle)))\n",
    "    angles = anglesArray()\n",
    "    a=angles[index]\n",
    "    return a"
   ]
  },
  {
   "cell_type": "code",
   "execution_count": 85,
   "metadata": {},
   "outputs": [],
   "source": [
    "def roundAngleTitle(angle):\n",
    "    anglesStrings = anglesStringsArray()\n",
    "    angles = anglesArray()\n",
    "    a=np.argmin(np.abs(np.subtract(angles,angle)))\n",
    "    return anglesStrings[a]"
   ]
  },
  {
   "cell_type": "code",
   "execution_count": 86,
   "metadata": {},
   "outputs": [],
   "source": [
    "def roundAngleIndex(angle):\n",
    "    angles = anglesArray()\n",
    "    a=np.argmin(np.abs(np.subtract(angles,angle)))\n",
    "    return a"
   ]
  },
  {
   "cell_type": "code",
   "execution_count": 87,
   "metadata": {},
   "outputs": [],
   "source": [
    "def showHist(tempdicArray):\n",
    "    fig, ax = plt.subplots(4,4,figsize=(14,8))\n",
    "    for i in range (0,len(tempdicArray)): \n",
    "        x=(int)(i/4)\n",
    "        ax[x][i%4].bar(list(tempdicArray[i].keys()), tempdicArray[i].values(), color='b')\n",
    "    fig.tight_layout()\n",
    "    plt.show()"
   ]
  },
  {
   "cell_type": "code",
   "execution_count": 99,
   "metadata": {},
   "outputs": [],
   "source": [
    "def drawContours(img,contours,color):\n",
    "    contours=np.array(contours)\n",
    "    for i in range(contours.shape[0]):\n",
    "        for j in range(contours[i].shape[0]):\n",
    "            for k in range(contours[i][j].shape[0]):\n",
    "                img[contours[i][j][k][1]][contours[i][j][k][0]]=color"
   ]
  },
  {
   "cell_type": "code",
   "execution_count": 100,
   "metadata": {},
   "outputs": [],
   "source": [
    "def getContours(img,seuil=30):\n",
    "    contours=[]\n",
    "    img = cv2.cvtColor(img, cv2.COLOR_BGR2GRAY)\n",
    "    h,w=np.shape(img)\n",
    "    imgContours=np.zeros((h,w),np.double)\n",
    "    imgContoursX=np.zeros((h,w),np.double)\n",
    "    imgContoursY=np.zeros((h,w),np.double)\n",
    "    for i in range(0,h):\n",
    "        for j in range (0,w):\n",
    "            if(j==0 or j==w-1 or i==0 or i==h-1):\n",
    "                imgContoursX[i][j]=0\n",
    "                imgContoursY[i][j]=0\n",
    "            else:\n",
    "                imgContoursX[i][j] = (np.multiply( convX,img[i-1:i+2,j-1:j+2]).sum(axis=1).sum(axis=0))\n",
    "                imgContoursY[i][j] = (np.multiply( convY,img[i-1:i+2,j-1:j+2]).sum(axis=1).sum(axis=0))\n",
    "            a=math.sqrt(math.pow(imgContoursX[i][j],2)+math.pow(imgContoursY[i][j],2))\n",
    "            a=min(a,255)\n",
    "            a=max(a,0)\n",
    "            if(a>seuil):\n",
    "                imgContours[i][j]=a\n",
    "                contours.append([i,j])\n",
    "    return imgContours,contours,imgContoursX,imgContoursY\n"
   ]
  },
  {
   "cell_type": "code",
   "execution_count": 109,
   "metadata": {},
   "outputs": [],
   "source": [
    "def getOrientation(img,x,y):\n",
    "    global imgContoursX,imgContoursY\n",
    "    if(x<0 or x>w-1 or y<0 or y>h-1):\n",
    "        d=0\n",
    "    else:\n",
    "        d=math.atan2(imgContoursY[y][x],imgContoursX[y][x])\n",
    "    d+=math.pi\n",
    "    return d\n",
    "\n",
    "def getBlock(img,x,y):\n",
    "    a=[]\n",
    "    block=np.zeros((16,16),np.double)\n",
    "    for i in range(x-8,x+8):\n",
    "        for j in range(y-8,y+8):\n",
    "            angle=roundAngle(getOrientation(img,i,j))\n",
    "            block[j-y+8][i-x+8]=angle\n",
    "\n",
    "    return block"
   ]
  },
  {
   "cell_type": "code",
   "execution_count": 102,
   "metadata": {},
   "outputs": [],
   "source": [
    "pixelX=200\n",
    "pixelY=200"
   ]
  },
  {
   "cell_type": "code",
   "execution_count": 108,
   "metadata": {},
   "outputs": [
    {
     "data": {
      "image/png": "[encoded data removed]",
      "text/plain": [
       "<Figure size 1008x576 with 16 Axes>"
      ]
     },
     "metadata": {
      "needs_background": "light"
     },
     "output_type": "display_data"
    },
    {
     "ename": "UFuncTypeError",
     "evalue": "ufunc 'add' did not contain a loop with signature matching types (dtype('<U32'), dtype('<U32')) -> dtype('<U32')",
     "output_type": "error",
     "traceback": [
      "\u001b[1;31m---------------------------------------------------------------------------\u001b[0m",
      "\u001b[1;31mUFuncTypeError\u001b[0m                            Traceback (most recent call last)",
      "\u001b[1;32m~\\AppData\\Local\\Temp/ipykernel_27520/76345911.py\u001b[0m in \u001b[0;36m<module>\u001b[1;34m\u001b[0m\n\u001b[0;32m     33\u001b[0m \u001b[0mshowHist\u001b[0m\u001b[1;33m(\u001b[0m\u001b[0mhistogrammes\u001b[0m\u001b[1;33m)\u001b[0m\u001b[1;33m\u001b[0m\u001b[1;33m\u001b[0m\u001b[0m\n\u001b[0;32m     34\u001b[0m \u001b[1;33m\u001b[0m\u001b[0m\n\u001b[1;32m---> 35\u001b[1;33m \u001b[0mcv2\u001b[0m\u001b[1;33m.\u001b[0m\u001b[0mimshow\u001b[0m\u001b[1;33m(\u001b[0m\u001b[1;34m'image : '\u001b[0m\u001b[1;33m+\u001b[0m\u001b[0mimg\u001b[0m\u001b[1;33m,\u001b[0m\u001b[0mimg\u001b[0m\u001b[1;33m)\u001b[0m\u001b[1;33m\u001b[0m\u001b[1;33m\u001b[0m\u001b[0m\n\u001b[0m\u001b[0;32m     36\u001b[0m \u001b[0mcv2\u001b[0m\u001b[1;33m.\u001b[0m\u001b[0mwaitKey\u001b[0m\u001b[1;33m(\u001b[0m\u001b[1;36m0\u001b[0m\u001b[1;33m)\u001b[0m\u001b[1;33m\u001b[0m\u001b[1;33m\u001b[0m\u001b[0m\n",
      "\u001b[1;31mUFuncTypeError\u001b[0m: ufunc 'add' did not contain a loop with signature matching types (dtype('<U32'), dtype('<U32')) -> dtype('<U32')"
     ]
    }
   ],
   "source": [
    "#main\n",
    "s='C:/Users/USER/Documents/computer_vision/1st.jpg'\n",
    "img=cv2.imread(s)\n",
    "img = cv2.resize(img, dsize=(378, 504), interpolation=cv2.INTER_CUBIC) # 이미지 resize\n",
    "\n",
    "h,w,d = np.shape(img)\n",
    "#convolution matrix\n",
    "c=1\n",
    "convX=np.zeros((3,3),np.double)\n",
    "convX[0,0]=0;convX[0,1]=0;convX[0,2]=0;convX[1,0]=-c;convX[1,1]=0\n",
    "convX[1,2]= c;convX[2,0]= -0;convX[2,1]=0;convX[2,2]=0\n",
    "\n",
    "convY=np.zeros((3,3),np.double)\n",
    "convY[0,0]=-0;convY[0,1]=-c;convY[0,2]=-0;convY[1,0]=0;convY[1,1]=0\n",
    "convY[1,2]= 0;convY[2,0]= 0;convY[2,1]=c;convY[2,2]=0\n",
    "\n",
    "#threshold for contours\n",
    "seuil=30\n",
    "img,contours,imgContoursX,imgContoursY=getContours(img,seuil)\n",
    "\n",
    "blocks=getBlock(img,pixelX,pixelY)\n",
    "dic={}\n",
    "histogrammes=[]\n",
    "for block in blocks:\n",
    "    #count orientations for histogramme\n",
    "    array=np.matrix.flatten(block)\n",
    "    count=Counter(array)\n",
    "    for c in count:\n",
    "        dic[roundAngleTitle(c)]=count[c]\n",
    "    histogrammes.append(dic.copy())\n",
    "    dic={}\n",
    "\n",
    "showHist(histogrammes)\n",
    "\n",
    "cv2.imshow('image : '+img,img)\n",
    "cv2.waitKey(0)"
   ]
  },
  {
   "cell_type": "code",
   "execution_count": 88,
   "metadata": {},
   "outputs": [
    {
     "data": {
      "image/png": "[encoded data removed]",
      "text/plain": [
       "<Figure size 1008x576 with 16 Axes>"
      ]
     },
     "metadata": {
      "needs_background": "light"
     },
     "output_type": "display_data"
    },
    {
     "ename": "NameError",
     "evalue": "name 's' is not defined",
     "output_type": "error",
     "traceback": [
      "\u001b[1;31m---------------------------------------------------------------------------\u001b[0m",
      "\u001b[1;31mNameError\u001b[0m                                 Traceback (most recent call last)",
      "\u001b[1;32m~\\AppData\\Local\\Temp/ipykernel_27520/1143962483.py\u001b[0m in \u001b[0;36m<module>\u001b[1;34m\u001b[0m\n\u001b[0;32m      9\u001b[0m \u001b[0mshowHist\u001b[0m\u001b[1;33m(\u001b[0m\u001b[0mhistogrammes\u001b[0m\u001b[1;33m)\u001b[0m\u001b[1;33m\u001b[0m\u001b[1;33m\u001b[0m\u001b[0m\n\u001b[0;32m     10\u001b[0m \u001b[1;33m\u001b[0m\u001b[0m\n\u001b[1;32m---> 11\u001b[1;33m \u001b[0mcv2\u001b[0m\u001b[1;33m.\u001b[0m\u001b[0mimshow\u001b[0m\u001b[1;33m(\u001b[0m\u001b[1;34m'image : '\u001b[0m\u001b[1;33m+\u001b[0m\u001b[0ms\u001b[0m\u001b[1;33m,\u001b[0m\u001b[0mimg\u001b[0m\u001b[1;33m)\u001b[0m\u001b[1;33m\u001b[0m\u001b[1;33m\u001b[0m\u001b[0m\n\u001b[0m\u001b[0;32m     12\u001b[0m \u001b[0mcv2\u001b[0m\u001b[1;33m.\u001b[0m\u001b[0mwaitKey\u001b[0m\u001b[1;33m(\u001b[0m\u001b[1;36m0\u001b[0m\u001b[1;33m)\u001b[0m\u001b[1;33m\u001b[0m\u001b[1;33m\u001b[0m\u001b[0m\n",
      "\u001b[1;31mNameError\u001b[0m: name 's' is not defined"
     ]
    }
   ],
   "source": [
    "dic={}\n",
    "histogrammes=[]\n",
    "count=Counter(angle_list)\n",
    "for c in count:\n",
    "    dic[roundAngleTitle(c)]=count[c]\n",
    "histogrammes.append(dic.copy())\n",
    "dic={}\n",
    "\n",
    "showHist(histogrammes)\n",
    "\n",
    "cv2.imshow('image : '+s,img)\n",
    "cv2.waitKey(0)"
   ]
  },
  {
   "cell_type": "code",
   "execution_count": null,
   "metadata": {},
   "outputs": [],
   "source": []
  }
 ],
 "metadata": {
  "interpreter": {
   "hash": "42588fd11209419b7c81abe23e31a1d2101f60811b02170c268e57ebb57d5d9a"
  },
  "kernelspec": {
   "display_name": "Python 3.9.7 ('base')",
   "language": "python",
   "name": "python3"
  },
  "language_info": {
   "codemirror_mode": {
    "name": "ipython",
    "version": 3
   },
   "file_extension": ".py",
   "mimetype": "text/x-python",
   "name": "python",
   "nbconvert_exporter": "python",
   "pygments_lexer": "ipython3",
   "version": "3.9.7"
  },
  "orig_nbformat": 4
 },
 "nbformat": 4,
 "nbformat_minor": 2
}
